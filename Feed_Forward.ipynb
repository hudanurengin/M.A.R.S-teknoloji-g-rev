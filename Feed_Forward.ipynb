{
  "nbformat": 4,
  "nbformat_minor": 0,
  "metadata": {
    "colab": {
      "provenance": [],
      "authorship_tag": "ABX9TyMCAICMEXJa7vm1dWllIcK0",
      "include_colab_link": true
    },
    "kernelspec": {
      "name": "python3",
      "display_name": "Python 3"
    },
    "language_info": {
      "name": "python"
    }
  },
  "cells": [
    {
      "cell_type": "markdown",
      "metadata": {
        "id": "view-in-github",
        "colab_type": "text"
      },
      "source": [
        "<a href=\"https://colab.research.google.com/github/hudanurengin/M.A.R.S-teknoloji-gorev/blob/main/Feed_Forward.ipynb\" target=\"_parent\"><img src=\"https://colab.research.google.com/assets/colab-badge.svg\" alt=\"Open In Colab\"/></a>"
      ]
    },
    {
      "cell_type": "code",
      "execution_count": 15,
      "metadata": {
        "id": "T8OBzYxrup6o"
      },
      "outputs": [],
      "source": [
        "import torch"
      ]
    },
    {
      "cell_type": "code",
      "source": [
        "x = torch.tensor([[1, 2, 3], [4, 5, 6]], dtype=torch.float)\n",
        "x=torch.flatten(x)\n",
        "x"
      ],
      "metadata": {
        "colab": {
          "base_uri": "https://localhost:8080/"
        },
        "id": "69t_4Dah-phX",
        "outputId": "7b58ccc1-38f7-4d3d-8e29-a3223eb621be"
      },
      "execution_count": 16,
      "outputs": [
        {
          "output_type": "execute_result",
          "data": {
            "text/plain": [
              "tensor([1., 2., 3., 4., 5., 6.])"
            ]
          },
          "metadata": {},
          "execution_count": 16
        }
      ]
    },
    {
      "cell_type": "code",
      "source": [
        "torch.manual_seed(1)\n",
        "\n",
        "\n",
        "input_size = 6\n",
        "hidden_size = 50\n",
        "\n",
        "hidden_weight= torch.randn(input_size, hidden_size)\n",
        "hidden_bias = torch.randn(hidden_size)\n"
      ],
      "metadata": {
        "id": "F2b_tHjH_VUN"
      },
      "execution_count": 17,
      "outputs": []
    },
    {
      "cell_type": "code",
      "source": [
        "output_size = 1\n",
        "\n",
        "output_weight = torch.randn(hidden_size, output_size)\n",
        "output_bias = torch.randn(output_size)\n",
        "\n"
      ],
      "metadata": {
        "id": "C6QrPNp1Gwb3"
      },
      "execution_count": 18,
      "outputs": []
    },
    {
      "cell_type": "code",
      "source": [
        "def sigmoid_activation(x):\n",
        "\n",
        "  return 1 / (1 + torch.exp(-x))"
      ],
      "metadata": {
        "id": "Bc91R1DXDnPl"
      },
      "execution_count": 19,
      "outputs": []
    },
    {
      "cell_type": "code",
      "source": [
        "def tanh_activation(x):\n",
        "\n",
        "    return (torch.exp(x) - torch.exp(-x))/(torch.exp(x) + torch.exp(-x))"
      ],
      "metadata": {
        "id": "n5kfC--FDoz0"
      },
      "execution_count": 20,
      "outputs": []
    },
    {
      "cell_type": "code",
      "source": [
        "#hidden layer\n",
        "hidden_layer = torch.matmul(x, hidden_weight) + hidden_bias\n",
        "hidden_activation= tanh_activation(hidden_layer)\n",
        "hidden_activation2= torch.tanh(hidden_layer)\n",
        "\n",
        "# Output layer\n",
        "output_layer= torch.matmul(hidden_activation, output_weight) + output_bias\n",
        "output_activation= sigmoid_activation(output_layer)\n",
        "output_activation2= torch.sigmoid(output_layer)\n",
        "\n",
        "output_activation,output_activation2"
      ],
      "metadata": {
        "colab": {
          "base_uri": "https://localhost:8080/"
        },
        "id": "Gl2krp2gHMOL",
        "outputId": "4f05aaa7-f97e-452b-cc56-3a0b346893d1"
      },
      "execution_count": 21,
      "outputs": [
        {
          "output_type": "execute_result",
          "data": {
            "text/plain": [
              "(tensor([0.0575]), tensor([0.0575]))"
            ]
          },
          "metadata": {},
          "execution_count": 21
        }
      ]
    },
    {
      "cell_type": "markdown",
      "source": [
        "Okul numaramı seed e verdiğim hali"
      ],
      "metadata": {
        "id": "3GgX7O2R7_Vs"
      }
    },
    {
      "cell_type": "code",
      "source": [
        "torch.manual_seed(180401051)\n",
        "\n",
        "input_size = 6\n",
        "hidden_size = 50\n",
        "\n",
        "hidden_weight= torch.randn(input_size, hidden_size)\n",
        "hidden_bias = torch.randn(hidden_size)\n",
        "\n",
        "output_size = 1\n",
        "\n",
        "output_weight = torch.randn(hidden_size, output_size)\n",
        "output_bias = torch.randn(output_size)\n",
        "\n",
        "def sigmoid_activation(x):\n",
        "\n",
        "  return 1 / (1 + torch.exp(-x))\n",
        "\n",
        "def tanh_activation(x):\n",
        "\n",
        "    return (torch.exp(x) - torch.exp(-x))/(torch.exp(x) + torch.exp(-x))\n",
        "\n",
        "#hidden layer\n",
        "hidden_layer = torch.matmul(x, hidden_weight) + hidden_bias\n",
        "hidden_activation= tanh_activation(hidden_layer)\n",
        "hidden_activation2= torch.tanh(hidden_layer)\n",
        "\n",
        "# Output layer\n",
        "output_layer= torch.matmul(hidden_activation, output_weight) + output_bias\n",
        "output_activation= sigmoid_activation(output_layer)\n",
        "output_activation2= torch.sigmoid(output_layer)\n",
        "\n",
        "output_activation,output_activation2"
      ],
      "metadata": {
        "id": "Z9p9w2yPMNdS",
        "colab": {
          "base_uri": "https://localhost:8080/"
        },
        "outputId": "4d459b86-cdc6-48a9-a447-208dcaa010c6"
      },
      "execution_count": 26,
      "outputs": [
        {
          "output_type": "execute_result",
          "data": {
            "text/plain": [
              "(tensor([1.0000]), tensor([1.0000]))"
            ]
          },
          "metadata": {},
          "execution_count": 26
        }
      ]
    }
  ]
}